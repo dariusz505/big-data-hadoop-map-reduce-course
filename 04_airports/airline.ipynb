{
 "cells": [
  {
   "cell_type": "code",
   "execution_count": null,
   "metadata": {},
   "outputs": [],
   "source": [
    "import pandas as pd"
   ]
  },
  {
   "cell_type": "code",
   "execution_count": null,
   "metadata": {},
   "outputs": [],
   "source": [
    "df = pd.read_csv('airline.csv', sep='\\t', names=['airline', 'to_split'])\n",
    "df[['dep_delay', 'arr_delay']] = df.to_split.str[1:-1].str.split(', ').apply(pd.Series)\n",
    "df = df.drop(columns='to_split')\n",
    "df"
   ]
  },
  {
   "cell_type": "code",
   "execution_count": null,
   "metadata": {},
   "outputs": [],
   "source": [
    "import plotly.express as px\n",
    "\n",
    "fig = px.bar(df, x='airline', y='dep_delay', color='airline')\n",
    "fig.show()"
   ]
  },
  {
   "cell_type": "code",
   "execution_count": null,
   "metadata": {},
   "outputs": [],
   "source": [
    "fig = px.bar(df, x='airline', y='arr_delay', color='airline')\n",
    "fig.show()"
   ]
  },
  {
   "cell_type": "code",
   "execution_count": null,
   "metadata": {},
   "outputs": [],
   "source": [
    "import plotly.graph_objects as go\n",
    "\n",
    "fig = go.Figure(data=[go.Bar(x=df.airline, y=df.dep_delay, name='departure delay', marker_color='#517CAA'),\n",
    "                     go.Bar(x=df.airline, y=df.arr_delay, name='arrival delay', marker_color='#E09F1F')],\n",
    "               layout=go.Layout(title='Average Departure and Arrival Delay by Airline USA 2015-01'))\n",
    "fig.show()"
   ]
  }
 ],
 "metadata": {
  "kernelspec": {
   "display_name": "Python 3",
   "language": "python",
   "name": "python3"
  },
  "language_info": {
   "codemirror_mode": {
    "name": "ipython",
    "version": 3
   },
   "file_extension": ".py",
   "mimetype": "text/x-python",
   "name": "python",
   "nbconvert_exporter": "python",
   "pygments_lexer": "ipython3",
   "version": "3.7.3"
  }
 },
 "nbformat": 4,
 "nbformat_minor": 2
}
